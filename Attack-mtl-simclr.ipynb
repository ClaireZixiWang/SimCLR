{
 "cells": [
  {
   "cell_type": "code",
   "execution_count": 11,
   "id": "302a9d80",
   "metadata": {},
   "outputs": [],
   "source": [
    "import torch\n",
    "import torch.nn.functional as F\n",
    "from tqdm import tqdm\n",
    "# from utils import save_config_file, accuracy, save_checkpoint\n",
    "# import torch.nn as nn\n",
    "\n",
    "# import argparse\n",
    "import torch\n",
    "# import torch.backends.cudnn as cudnn\n",
    "# from torchvision import models\n",
    "# from data_aug.contrastive_learning_dataset import ContrastiveLearningDataset\n",
    "from models.resnet_simclr import ResNetSimCLR\n",
    "# from simclr import SimCLR\n",
    "from torchvision import transforms, datasets\n",
    "from torch.utils.data import DataLoader, TensorDataset\n",
    "\n"
   ]
  },
  {
   "cell_type": "code",
   "execution_count": 7,
   "id": "010318b0",
   "metadata": {},
   "outputs": [],
   "source": [
    "device = torch.device('cuda' if torch.cuda.is_available() else 'cpu')\n"
   ]
  },
  {
   "cell_type": "code",
   "execution_count": 8,
   "id": "f02a2c6e",
   "metadata": {},
   "outputs": [],
   "source": [
    "# load model\n",
    "model = ResNetSimCLR(base_model='resnet18', out_dim=128)\n",
    "model.load_state_dict(torch.load('/home/zixiwang/mtlsimclr/SimCLR/runs/Dec12_02-52-05_deeplearning-1-vm/checkpoint_0100.pth.tar', map_location=torch.device('cpu'))['state_dict'])\n",
    "model = model.to(device)"
   ]
  },
  {
   "cell_type": "code",
   "execution_count": 12,
   "id": "21e350c5",
   "metadata": {},
   "outputs": [],
   "source": [
    "# load adversarial images\n",
    "path = '/home/zixiwang/mtlsimclr/SimCLR/cifar10_pgd.pt'\n",
    "adv_images, adv_labels = torch.load(path)\n",
    "adv_data = TensorDataset(adv_images.float()/255, adv_labels)\n",
    "adv_loader = DataLoader(adv_data, batch_size=128, shuffle=False)"
   ]
  },
  {
   "cell_type": "code",
   "execution_count": 15,
   "id": "122b88bc",
   "metadata": {},
   "outputs": [
    {
     "name": "stdout",
     "output_type": "stream",
     "text": [
      "Robust accuracy: 10.00 %\n"
     ]
    }
   ],
   "source": [
    "# evluate  robustness result\n",
    "model.eval()\n",
    "\n",
    "correct = 0\n",
    "total = 0\n",
    "\n",
    "model.eval()\n",
    "with torch.no_grad():\n",
    "    for images, labels in adv_loader:\n",
    "        images = images.to(device)\n",
    "        labels = labels.to(device)\n",
    "        prediction, features = model(images)\n",
    "        # the class with the highest energy is what we choose as prediction\n",
    "        _, predicted = torch.max(prediction.data, 1)\n",
    "        total += labels.size(0)\n",
    "        correct += (predicted == labels).sum().item()\n",
    "    \n",
    "print('Robust accuracy: %.2f %%' % (100 * float(correct) / total))"
   ]
  },
  {
   "cell_type": "code",
   "execution_count": null,
   "id": "a5ca5c10",
   "metadata": {},
   "outputs": [],
   "source": []
  }
 ],
 "metadata": {
  "kernelspec": {
   "display_name": "Python [conda env:root] *",
   "language": "python",
   "name": "conda-root-py"
  },
  "language_info": {
   "codemirror_mode": {
    "name": "ipython",
    "version": 3
   },
   "file_extension": ".py",
   "mimetype": "text/x-python",
   "name": "python",
   "nbconvert_exporter": "python",
   "pygments_lexer": "ipython3",
   "version": "3.7.12"
  }
 },
 "nbformat": 4,
 "nbformat_minor": 5
}
