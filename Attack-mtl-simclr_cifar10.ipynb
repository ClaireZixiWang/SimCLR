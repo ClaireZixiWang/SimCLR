{
 "cells": [
  {
   "cell_type": "code",
   "execution_count": 1,
   "id": "c73f0a16",
   "metadata": {},
   "outputs": [],
   "source": [
    "import torch\n",
    "import torch.nn.functional as F\n",
    "from tqdm import tqdm\n",
    "# from utils import save_config_file, accuracy, save_checkpoint\n",
    "# import torch.nn as nn\n",
    "\n",
    "# import argparse\n",
    "import torch\n",
    "# import torch.backends.cudnn as cudnn\n",
    "# from torchvision import models\n",
    "# from data_aug.contrastive_learning_dataset import ContrastiveLearningDataset\n",
    "from models.resnet_simclr import ResNetSimCLR\n",
    "# from simclr import SimCLR\n",
    "from torchvision import transforms, datasets\n",
    "from torch.utils.data import DataLoader, TensorDataset\n",
    "\n"
   ]
  },
  {
   "cell_type": "code",
   "execution_count": 2,
   "id": "c7918119",
   "metadata": {},
   "outputs": [
    {
     "data": {
      "text/plain": [
       "device(type='cuda')"
      ]
     },
     "execution_count": 2,
     "metadata": {},
     "output_type": "execute_result"
    }
   ],
   "source": [
    "device = torch.device('cuda' if torch.cuda.is_available() else 'cpu')\n",
    "device"
   ]
  },
  {
   "cell_type": "code",
   "execution_count": 3,
   "id": "a73677fd",
   "metadata": {},
   "outputs": [],
   "source": [
    "# load model\n",
    "model = ResNetSimCLR(base_model='resnet18', out_dim=128)\n",
    "model.load_state_dict(torch.load('/home/zixiwang/mtlsimclr/SimCLR/runs/Dec19_23-53-41_deeplearning-1-vm/checkpoint_0100.pth.tar')['state_dict'])\n",
    "model = model.to(device)"
   ]
  },
  {
   "cell_type": "code",
   "execution_count": 12,
   "id": "ae37f57e",
   "metadata": {},
   "outputs": [
    {
     "name": "stdout",
     "output_type": "stream",
     "text": [
      "Robust accuracy under FGSM attack: 58.61 %\n"
     ]
    }
   ],
   "source": [
    "# FGSM\n",
    "# load adversarial images\n",
    "path = '/home/zixiwang/mtlsimclr/SimCLR/adversarial_data/cifar10_fgsm.pt'\n",
    "adv_images, adv_labels = torch.load(path)\n",
    "adv_data = TensorDataset(adv_images, adv_labels)\n",
    "adv_loader_fgsm = DataLoader(adv_data, batch_size=128, shuffle=False)\n",
    "\n",
    "# evluate  robustness result\n",
    "model.eval()\n",
    "\n",
    "correct = 0\n",
    "total = 0\n",
    "\n",
    "model.eval()\n",
    "with torch.no_grad():\n",
    "    for images, labels in adv_loader_fgsm:\n",
    "        images = images.to(device)\n",
    "        labels = labels.to(device)\n",
    "        prediction, features = model(images)\n",
    "        # the class with the highest energy is what we choose as prediction\n",
    "        _, predicted = torch.max(prediction.data, 1)\n",
    "        total += labels.size(0)\n",
    "        correct += (predicted == labels).sum().item()\n",
    "    \n",
    "print('Robust accuracy under FGSM attack: %.2f %%' % (100 * float(correct) / total))"
   ]
  },
  {
   "cell_type": "code",
   "execution_count": 13,
   "id": "610ee865",
   "metadata": {},
   "outputs": [
    {
     "name": "stdout",
     "output_type": "stream",
     "text": [
      "Robust accuracy under PGD-7 attack: 60.62 %\n"
     ]
    }
   ],
   "source": [
    "# PGD-7\n",
    "# load adversarial images\n",
    "path = '/home/zixiwang/mtlsimclr/SimCLR/adversarial_data/cifar10_pgd.pt'\n",
    "adv_images, adv_labels = torch.load(path)\n",
    "adv_data = TensorDataset(adv_images, adv_labels)\n",
    "adv_loader_7 = DataLoader(adv_data, batch_size=128, shuffle=False)\n",
    "\n",
    "# evluate  robustness result\n",
    "model.eval()\n",
    "\n",
    "correct = 0\n",
    "total = 0\n",
    "\n",
    "model.eval()\n",
    "with torch.no_grad():\n",
    "    for images, labels in adv_loader_7:\n",
    "        images = images.to(device)\n",
    "        labels = labels.to(device)\n",
    "        prediction, features = model(images)\n",
    "        # the class with the highest energy is what we choose as prediction\n",
    "        _, predicted = torch.max(prediction.data, 1)\n",
    "        total += labels.size(0)\n",
    "        correct += (predicted == labels).sum().item()\n",
    "    \n",
    "print('Robust accuracy under PGD-7 attack: %.2f %%' % (100 * float(correct) / total))"
   ]
  },
  {
   "cell_type": "code",
   "execution_count": 14,
   "id": "0429b6c7",
   "metadata": {},
   "outputs": [
    {
     "name": "stdout",
     "output_type": "stream",
     "text": [
      "Robust accuracy under PGD-20 attack: 59.95 %\n"
     ]
    }
   ],
   "source": [
    "# PGD-20\n",
    "# load adversarial images\n",
    "path = '/home/zixiwang/mtlsimclr/SimCLR/adversarial_data/cifar10_pgd_20.pt'\n",
    "adv_images, adv_labels = torch.load(path)\n",
    "adv_data = TensorDataset(adv_images, adv_labels)\n",
    "adv_loader_20 = DataLoader(adv_data, batch_size=128, shuffle=False)\n",
    "\n",
    "# evluate  robustness result\n",
    "model.eval()\n",
    "\n",
    "correct = 0\n",
    "total = 0\n",
    "\n",
    "model.eval()\n",
    "with torch.no_grad():\n",
    "    for images, labels in adv_loader_20:\n",
    "        images = images.to(device)\n",
    "        labels = labels.to(device)\n",
    "        prediction, features = model(images)\n",
    "        # the class with the highest energy is what we choose as prediction\n",
    "        _, predicted = torch.max(prediction.data, 1)\n",
    "        total += labels.size(0)\n",
    "        correct += (predicted == labels).sum().item()\n",
    "    \n",
    "print('Robust accuracy under PGD-20 attack: %.2f %%' % (100 * float(correct) / total))"
   ]
  },
  {
   "cell_type": "code",
   "execution_count": 15,
   "id": "2586cd19",
   "metadata": {},
   "outputs": [
    {
     "name": "stdout",
     "output_type": "stream",
     "text": [
      "Robust accuracy under PGD-50 attack: 59.89 %\n"
     ]
    }
   ],
   "source": [
    "# PGD-50\n",
    "# load adversarial images\n",
    "path = '/home/zixiwang/mtlsimclr/SimCLR/adversarial_data/cifar10_pgd_50.pt'\n",
    "adv_images, adv_labels = torch.load(path)\n",
    "adv_data = TensorDataset(adv_images, adv_labels)\n",
    "adv_loader_50 = DataLoader(adv_data, batch_size=128, shuffle=False)\n",
    "\n",
    "# evluate  robustness result\n",
    "model.eval()\n",
    "\n",
    "correct = 0\n",
    "total = 0\n",
    "\n",
    "model.eval()\n",
    "with torch.no_grad():\n",
    "    for images, labels in adv_loader_50:\n",
    "        images = images.to(device)\n",
    "        labels = labels.to(device)\n",
    "        prediction, features = model(images)\n",
    "        # the class with the highest energy is what we choose as prediction\n",
    "        _, predicted = torch.max(prediction.data, 1)\n",
    "        total += labels.size(0)\n",
    "        correct += (predicted == labels).sum().item()\n",
    "    \n",
    "print('Robust accuracy under PGD-50 attack: %.2f %%' % (100 * float(correct) / total))"
   ]
  },
  {
   "cell_type": "code",
   "execution_count": 16,
   "id": "e48d6c4f",
   "metadata": {},
   "outputs": [
    {
     "name": "stdout",
     "output_type": "stream",
     "text": [
      "Files already downloaded and verified\n"
     ]
    }
   ],
   "source": [
    "batch_size = 24\n",
    "\n",
    "cifar10_test  = datasets.CIFAR10(root='./data', train=False,\n",
    "                              download=True, transform=transforms.ToTensor())\n",
    "\n",
    "test_loader = torch.utils.data.DataLoader(cifar10_test,\n",
    "                                          batch_size=batch_size,\n",
    "                                          shuffle=False)"
   ]
  },
  {
   "cell_type": "code",
   "execution_count": 18,
   "id": "2f6f0eb9",
   "metadata": {},
   "outputs": [
    {
     "name": "stdout",
     "output_type": "stream",
     "text": [
      "Accuracy of the model on the test images: 73.16 %\n"
     ]
    }
   ],
   "source": [
    "# Evaluate natural accuracy\n",
    "model.eval()\n",
    "with torch.no_grad():\n",
    "    correct = 0\n",
    "    total = 0\n",
    "    for images, labels in test_loader:\n",
    "        images = images.to(device)\n",
    "        labels = labels.to(device)\n",
    "        prediction, features = model(images)\n",
    "        _, predicted = torch.max(prediction.data, 1)\n",
    "        total += labels.size(0)\n",
    "        correct += (predicted == labels).sum().item()\n",
    "\n",
    "    print('Accuracy of the model on the test images: {} %'.format(100 * correct / total))\n",
    "\n",
    "# Save the model checkpoint\n",
    "# torch.save(model.state_dict(), 'resnet.ckpt')"
   ]
  },
  {
   "cell_type": "code",
   "execution_count": null,
   "id": "c34e9652",
   "metadata": {},
   "outputs": [],
   "source": []
  }
 ],
 "metadata": {
  "kernelspec": {
   "display_name": "Python [conda env:root] *",
   "language": "python",
   "name": "conda-root-py"
  },
  "language_info": {
   "codemirror_mode": {
    "name": "ipython",
    "version": 3
   },
   "file_extension": ".py",
   "mimetype": "text/x-python",
   "name": "python",
   "nbconvert_exporter": "python",
   "pygments_lexer": "ipython3",
   "version": "3.7.12"
  }
 },
 "nbformat": 4,
 "nbformat_minor": 5
}
