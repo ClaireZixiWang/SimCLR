{
  "cells": [
    {
      "cell_type": "markdown",
      "metadata": {
        "id": "dHxYHGwNIZd1"
      },
      "source": [
        "Accuracy of the MTL model on the 10000 test images: 74 %"
      ]
    },
    {
      "cell_type": "markdown",
      "metadata": {
        "id": "3TWDoEuwZUUb"
      },
      "source": [
        "# Train base resnet-18 model with same hyper parameter"
      ]
    },
    {
      "cell_type": "markdown",
      "metadata": {
        "id": "8rDObljXZZj4"
      },
      "source": [
        "## Data Loader"
      ]
    },
    {
      "cell_type": "code",
      "execution_count": 2,
      "metadata": {
        "id": "1_5kFDJHsZOP"
      },
      "outputs": [],
      "source": [
        "import torch\n",
        "import torch.nn as nn\n",
        "import torchvision\n",
        "import torchvision.transforms as transforms \n",
        "import torchvision.models as models\n",
        "import tqdm"
      ]
    },
    {
      "cell_type": "code",
      "execution_count": 5,
      "metadata": {
        "colab": {
          "base_uri": "https://localhost:8080/",
          "height": 104,
          "referenced_widgets": [
            "69433a25d68448d3b80afa074221d948",
            "c4f95238ecc548b4867ce32841197b55",
            "4129dd05905445a6800f097bb798ec8f",
            "77be8cf0dfc243bbba8f2da34ad86f17",
            "90dfd3a5dadb42c4981377825a8287d0",
            "94fc50fc98b74d7dafc30ccea12a64c5",
            "5e8c67e8298846d885465f3475890fec",
            "374118c88dc74585aab6cf9bcebbbd3f",
            "4f456bfc72df42ed8182b6aa69e2a879",
            "24c1d8583b0849819eb72ebae77e2dc1",
            "d09a2ad209c34a6ab54db3ea4edb3c47"
          ]
        },
        "id": "1a5_uM30N_uT",
        "outputId": "210d3def-9083-4a8c-f5c6-019ee12973a5"
      },
      "outputs": [
        {
          "name": "stdout",
          "output_type": "stream",
          "text": [
            "Downloading https://www.cs.toronto.edu/~kriz/cifar-10-python.tar.gz to ../../data/cifar-10-python.tar.gz\n"
          ]
        },
        {
          "data": {
            "application/vnd.jupyter.widget-view+json": {
              "model_id": "69433a25d68448d3b80afa074221d948",
              "version_major": 2,
              "version_minor": 0
            },
            "text/plain": [
              "  0%|          | 0/170498071 [00:00<?, ?it/s]"
            ]
          },
          "metadata": {},
          "output_type": "display_data"
        },
        {
          "name": "stdout",
          "output_type": "stream",
          "text": [
            "Extracting ../../data/cifar-10-python.tar.gz to ../../data/\n"
          ]
        }
      ],
      "source": [
        "\n",
        "\n",
        "\n",
        "# Device configuration\n",
        "device = torch.device('cuda' if torch.cuda.is_available() else 'cpu')\n",
        "\n",
        "# Hyper-parameters\n",
        "num_epochs = 100\n",
        "learning_rate = 0.0003\n",
        "BATCH_SIZE = 256\n",
        "weight_decay = 1e-4\n",
        "PATH = '/content/drive/MyDrive/resnet18'\n",
        "\n",
        "# Image preprocessing modules\n",
        "transform = transforms.Compose([\n",
        "    transforms.Pad(4),\n",
        "    transforms.RandomHorizontalFlip(),\n",
        "    transforms.RandomCrop(32),\n",
        "    transforms.ToTensor()])\n",
        "\n",
        "# CIFAR-10 dataset\n",
        "train_dataset = torchvision.datasets.CIFAR10(root='../../data/',\n",
        "                                             train=True, \n",
        "                                             transform=transform,\n",
        "                                             download=True)\n",
        "\n",
        "test_dataset = torchvision.datasets.CIFAR10(root='../../data/',\n",
        "                                            train=False, \n",
        "                                            transform=transforms.ToTensor())\n",
        "\n",
        "# Data loader\n",
        "train_loader = torch.utils.data.DataLoader(dataset=train_dataset,\n",
        "                                           batch_size=BATCH_SIZE, \n",
        "                                           shuffle=True)\n",
        "\n",
        "test_loader = torch.utils.data.DataLoader(dataset=test_dataset,\n",
        "                                          batch_size=BATCH_SIZE, \n",
        "                                          shuffle=False)\n",
        "\n"
      ]
    },
    {
      "cell_type": "markdown",
      "metadata": {
        "id": "WBHwV5QxqxjO"
      },
      "source": [
        "## Training"
      ]
    },
    {
      "cell_type": "code",
      "execution_count": 14,
      "metadata": {
        "colab": {
          "base_uri": "https://localhost:8080/"
        },
        "id": "igf6OlfMF77y",
        "outputId": "8e6c9a17-811d-429c-8fa9-0c70e8f1f59e"
      },
      "outputs": [
        {
          "name": "stdout",
          "output_type": "stream",
          "text": [
            "Epoch [1/100], Step [100/196] Loss: 1.5579\n",
            "Epoch [2/100], Step [100/196] Loss: 1.3393\n",
            "Epoch [3/100], Step [100/196] Loss: 1.1205\n",
            "Epoch [4/100], Step [100/196] Loss: 1.0245\n",
            "Epoch [5/100], Step [100/196] Loss: 0.9608\n",
            "Epoch [6/100], Step [100/196] Loss: 0.8861\n",
            "Epoch [7/100], Step [100/196] Loss: 0.8541\n",
            "Epoch [8/100], Step [100/196] Loss: 0.7726\n",
            "Epoch [9/100], Step [100/196] Loss: 0.7595\n",
            "Epoch [10/100], Step [100/196] Loss: 0.7404\n",
            "Epoch [11/100], Step [100/196] Loss: 0.5978\n",
            "Epoch [12/100], Step [100/196] Loss: 0.5762\n",
            "Epoch [13/100], Step [100/196] Loss: 0.8313\n",
            "Epoch [14/100], Step [100/196] Loss: 0.7247\n",
            "Epoch [15/100], Step [100/196] Loss: 0.6097\n",
            "Epoch [16/100], Step [100/196] Loss: 0.5478\n",
            "Epoch [17/100], Step [100/196] Loss: 0.5834\n",
            "Epoch [18/100], Step [100/196] Loss: 0.5370\n",
            "Epoch [19/100], Step [100/196] Loss: 0.5383\n",
            "Epoch [20/100], Step [100/196] Loss: 0.6811\n",
            "Epoch [21/100], Step [100/196] Loss: 0.5897\n",
            "Epoch [22/100], Step [100/196] Loss: 0.4448\n",
            "Epoch [23/100], Step [100/196] Loss: 0.5859\n",
            "Epoch [24/100], Step [100/196] Loss: 0.4543\n",
            "Epoch [25/100], Step [100/196] Loss: 0.5707\n",
            "Epoch [26/100], Step [100/196] Loss: 0.6219\n",
            "Epoch [27/100], Step [100/196] Loss: 0.5736\n",
            "Epoch [28/100], Step [100/196] Loss: 0.4873\n",
            "Epoch [29/100], Step [100/196] Loss: 0.5357\n",
            "Epoch [30/100], Step [100/196] Loss: 0.4231\n",
            "Epoch [31/100], Step [100/196] Loss: 0.5419\n",
            "Epoch [32/100], Step [100/196] Loss: 0.5091\n",
            "Epoch [33/100], Step [100/196] Loss: 0.4261\n",
            "Epoch [34/100], Step [100/196] Loss: 0.4324\n",
            "Epoch [35/100], Step [100/196] Loss: 0.4945\n",
            "Epoch [36/100], Step [100/196] Loss: 0.3282\n",
            "Epoch [37/100], Step [100/196] Loss: 0.4477\n",
            "Epoch [38/100], Step [100/196] Loss: 0.4019\n",
            "Epoch [39/100], Step [100/196] Loss: 0.3433\n",
            "Epoch [40/100], Step [100/196] Loss: 0.4232\n",
            "Epoch [41/100], Step [100/196] Loss: 0.3363\n",
            "Epoch [42/100], Step [100/196] Loss: 0.3634\n",
            "Epoch [43/100], Step [100/196] Loss: 0.4137\n",
            "Epoch [44/100], Step [100/196] Loss: 0.2840\n",
            "Epoch [45/100], Step [100/196] Loss: 0.4090\n",
            "Epoch [46/100], Step [100/196] Loss: 0.3249\n",
            "Epoch [47/100], Step [100/196] Loss: 0.3871\n",
            "Epoch [48/100], Step [100/196] Loss: 0.2797\n",
            "Epoch [49/100], Step [100/196] Loss: 0.3407\n",
            "Epoch [50/100], Step [100/196] Loss: 0.3928\n",
            "Epoch [51/100], Step [100/196] Loss: 0.3365\n",
            "Epoch [52/100], Step [100/196] Loss: 0.3316\n",
            "Epoch [53/100], Step [100/196] Loss: 0.2649\n",
            "Epoch [54/100], Step [100/196] Loss: 0.3900\n",
            "Epoch [55/100], Step [100/196] Loss: 0.3871\n",
            "Epoch [56/100], Step [100/196] Loss: 0.2333\n",
            "Epoch [57/100], Step [100/196] Loss: 0.3349\n",
            "Epoch [58/100], Step [100/196] Loss: 0.2224\n",
            "Epoch [59/100], Step [100/196] Loss: 0.3361\n",
            "Epoch [60/100], Step [100/196] Loss: 0.2501\n",
            "Epoch [61/100], Step [100/196] Loss: 0.3497\n",
            "Epoch [62/100], Step [100/196] Loss: 0.2660\n",
            "Epoch [63/100], Step [100/196] Loss: 0.3587\n",
            "Epoch [64/100], Step [100/196] Loss: 0.2098\n",
            "Epoch [65/100], Step [100/196] Loss: 0.3369\n",
            "Epoch [66/100], Step [100/196] Loss: 0.2080\n",
            "Epoch [67/100], Step [100/196] Loss: 0.1997\n",
            "Epoch [68/100], Step [100/196] Loss: 0.2676\n",
            "Epoch [69/100], Step [100/196] Loss: 0.2575\n",
            "Epoch [70/100], Step [100/196] Loss: 0.2317\n",
            "Epoch [71/100], Step [100/196] Loss: 0.2234\n",
            "Epoch [72/100], Step [100/196] Loss: 0.2138\n",
            "Epoch [73/100], Step [100/196] Loss: 0.1935\n",
            "Epoch [74/100], Step [100/196] Loss: 0.1952\n",
            "Epoch [75/100], Step [100/196] Loss: 0.1561\n",
            "Epoch [76/100], Step [100/196] Loss: 0.1312\n",
            "Epoch [77/100], Step [100/196] Loss: 0.2175\n",
            "Epoch [78/100], Step [100/196] Loss: 0.1571\n",
            "Epoch [79/100], Step [100/196] Loss: 0.2453\n",
            "Epoch [80/100], Step [100/196] Loss: 0.1812\n",
            "Epoch [81/100], Step [100/196] Loss: 0.2342\n",
            "Epoch [82/100], Step [100/196] Loss: 0.1145\n",
            "Epoch [83/100], Step [100/196] Loss: 0.1757\n",
            "Epoch [84/100], Step [100/196] Loss: 0.2449\n",
            "Epoch [85/100], Step [100/196] Loss: 0.2584\n",
            "Epoch [86/100], Step [100/196] Loss: 0.2203\n",
            "Epoch [87/100], Step [100/196] Loss: 0.1900\n",
            "Epoch [88/100], Step [100/196] Loss: 0.1448\n",
            "Epoch [89/100], Step [100/196] Loss: 0.1726\n",
            "Epoch [90/100], Step [100/196] Loss: 0.1433\n",
            "Epoch [91/100], Step [100/196] Loss: 0.1618\n",
            "Epoch [92/100], Step [100/196] Loss: 0.1468\n",
            "Epoch [93/100], Step [100/196] Loss: 0.2857\n",
            "Epoch [94/100], Step [100/196] Loss: 0.1379\n",
            "Epoch [95/100], Step [100/196] Loss: 0.2006\n",
            "Epoch [96/100], Step [100/196] Loss: 0.1841\n",
            "Epoch [97/100], Step [100/196] Loss: 0.1498\n",
            "Epoch [98/100], Step [100/196] Loss: 0.1174\n",
            "Epoch [99/100], Step [100/196] Loss: 0.1998\n",
            "Epoch [100/100], Step [100/196] Loss: 0.0928\n"
          ]
        }
      ],
      "source": [
        "\n",
        "model = models.resnet18(pretrained=False)\n",
        "model = model.to(device)\n",
        "\n",
        "# Loss and optimizer\n",
        "criterion = nn.CrossEntropyLoss()\n",
        "optimizer = torch.optim.Adam(model.parameters(), learning_rate, weight_decay=weight_decay)\n",
        "\n",
        "scheduler = torch.optim.lr_scheduler.CosineAnnealingLR(optimizer, T_max=len(train_loader), eta_min=0,\n",
        "                                                           last_epoch=-1)\n",
        "\n",
        "# For updating learning rate\n",
        "\n",
        "# Train the model\n",
        "total_step = len(train_loader)\n",
        "curr_lr = learning_rate\n",
        "for epoch in range(num_epochs):\n",
        "  for i, (images, labels) in enumerate(train_loader):\n",
        "    images = images.to(device)\n",
        "    labels = labels.to(device)\n",
        "\n",
        "    # Forward pass\n",
        "    outputs = model(images)\n",
        "    loss = criterion(outputs, labels)\n",
        "\n",
        "    # Backward and optimize\n",
        "    optimizer.zero_grad()\n",
        "    loss.backward()\n",
        "    optimizer.step()\n",
        "\n",
        "    if (i+1) % 100 == 0:\n",
        "      print (\"Epoch [{}/{}], Step [{}/{}] Loss: {:.4f}\"\n",
        "                .format(epoch+1, num_epochs, i+1, total_step, loss.item()))\n",
        "\n",
        "    # Decay learning rate\n",
        "    if epoch >= 10:\n",
        "      scheduler.step()                                                           \n",
        "\n",
        "    if epoch %10 == 0:\n",
        "      checkpoint_name = 'checkpoint_resnet18-base_{:04d}.pth.tar'.format(epoch)\n",
        "      torch.save(model.state_dict(), PATH+'/'+checkpoint_name)\n",
        "\n",
        "checkpoint_name = 'checkpoint_resnet18-base{:04d}.pth.tar'.format(num_epochs)\n",
        "torch.save(model.state_dict(), PATH+'/'+checkpoint_name)\n"
      ]
    },
    {
      "cell_type": "code",
      "execution_count": 13,
      "metadata": {
        "colab": {
          "base_uri": "https://localhost:8080/",
          "height": 35
        },
        "id": "ZdG1xVqwKaZF",
        "outputId": "b1a09f7a-536f-4117-807c-6ba99c9c0116"
      },
      "outputs": [
        {
          "data": {
            "application/vnd.google.colaboratory.intrinsic+json": {
              "type": "string"
            },
            "text/plain": [
              "'/content/drive/MyDrive/resnet18/checkpoint_0100.pth.tar'"
            ]
          },
          "execution_count": 13,
          "metadata": {},
          "output_type": "execute_result"
        }
      ],
      "source": [
        "checkpoint_name = 'checkpoint_{:04d}.pth.tar'.format(num_epochs)\n",
        "PATH+'/'+checkpoint_name"
      ]
    },
    {
      "cell_type": "markdown",
      "metadata": {
        "id": "xRsJQ8cFq1Vq"
      },
      "source": [
        "## Test the model"
      ]
    },
    {
      "cell_type": "code",
      "execution_count": 15,
      "metadata": {
        "colab": {
          "base_uri": "https://localhost:8080/"
        },
        "id": "7mSSFN7SGQxh",
        "outputId": "ed7b55b1-f79b-435f-f747-986164ad2235"
      },
      "outputs": [
        {
          "name": "stdout",
          "output_type": "stream",
          "text": [
            "Accuracy of the model on the test images: 74.35 %\n"
          ]
        }
      ],
      "source": [
        "# Test the model\n",
        "model.eval()\n",
        "with torch.no_grad():\n",
        "    correct = 0\n",
        "    total = 0\n",
        "    for images, labels in test_loader:\n",
        "        images = images.to(device)\n",
        "        labels = labels.to(device)\n",
        "        outputs = model(images)\n",
        "        _, predicted = torch.max(outputs.data, 1)\n",
        "        total += labels.size(0)\n",
        "        correct += (predicted == labels).sum().item()\n",
        "\n",
        "    print('Accuracy of the model on the test images: {} %'.format(100 * correct / total))\n",
        "\n",
        "# Save the model checkpoint\n",
        "torch.save(model.state_dict(), 'resnet.ckpt')\n"
      ]
    },
    {
      "cell_type": "markdown",
      "metadata": {
        "id": "a47xQm7Mq4CV"
      },
      "source": [
        "# Loading the model and attack"
      ]
    },
    {
      "cell_type": "markdown",
      "metadata": {
        "id": "vnsdOvCSrXck"
      },
      "source": [
        "## Load the model"
      ]
    },
    {
      "cell_type": "code",
      "execution_count": 11,
      "metadata": {
        "id": "FLOYj-4tq6vS"
      },
      "outputs": [],
      "source": [
        "PATH = '/content/drive/MyDrive/resnet18/checkpoint_resnet18-base_0090.pth.tar'\n",
        "model_state_dict = torch.load(PATH)\n"
      ]
    },
    {
      "cell_type": "code",
      "execution_count": 16,
      "metadata": {
        "id": "chMcH2fUsrqz"
      },
      "outputs": [],
      "source": [
        "model = models.resnet18(pretrained=False)\n",
        "model.load_state_dict(model_state_dict)\n",
        "model = model.to(device)\n"
      ]
    },
    {
      "cell_type": "code",
      "execution_count": 17,
      "metadata": {
        "colab": {
          "base_uri": "https://localhost:8080/"
        },
        "id": "WLL755PlsXb7",
        "outputId": "5ae57492-e1eb-491b-ec76-b832970ff673"
      },
      "outputs": [
        {
          "name": "stdout",
          "output_type": "stream",
          "text": [
            "Accuracy of the model on the test images: 82.46 %\n"
          ]
        }
      ],
      "source": [
        "# Test the model\n",
        "model.eval()\n",
        "with torch.no_grad():\n",
        "    correct = 0\n",
        "    total = 0\n",
        "    for images, labels in test_loader:\n",
        "        images = images.to(device)\n",
        "        labels = labels.to(device)\n",
        "        outputs = model(images)\n",
        "        _, predicted = torch.max(outputs.data, 1)\n",
        "        total += labels.size(0)\n",
        "        correct += (predicted == labels).sum().item()\n",
        "\n",
        "    print('Accuracy of the model on the test images: {} %'.format(100 * correct / total))\n",
        "\n",
        "# Save the model checkpoint\n",
        "torch.save(model.state_dict(), 'resnet.ckpt')\n"
      ]
    },
    {
      "cell_type": "markdown",
      "metadata": {
        "id": "b4SxJYMit0GS"
      },
      "source": [
        "## PGD attack the model and save images"
      ]
    },
    {
      "cell_type": "code",
      "execution_count": 19,
      "metadata": {
        "colab": {
          "base_uri": "https://localhost:8080/"
        },
        "id": "nQK2ZWuRt-gD",
        "outputId": "c0af7638-989e-4bda-9bd8-10b8269fcdb4"
      },
      "outputs": [
        {
          "name": "stdout",
          "output_type": "stream",
          "text": [
            "Collecting torchattacks\n",
            "  Downloading torchattacks-3.2.3-py3-none-any.whl (102 kB)\n",
            "\u001b[?25l\r\u001b[K     |███▏                            | 10 kB 36.6 MB/s eta 0:00:01\r\u001b[K     |██████▍                         | 20 kB 39.5 MB/s eta 0:00:01\r\u001b[K     |█████████▋                      | 30 kB 44.4 MB/s eta 0:00:01\r\u001b[K     |████████████▉                   | 40 kB 23.9 MB/s eta 0:00:01\r\u001b[K     |████████████████                | 51 kB 15.6 MB/s eta 0:00:01\r\u001b[K     |███████████████████▏            | 61 kB 17.8 MB/s eta 0:00:01\r\u001b[K     |██████████████████████▍         | 71 kB 12.5 MB/s eta 0:00:01\r\u001b[K     |█████████████████████████▋      | 81 kB 13.7 MB/s eta 0:00:01\r\u001b[K     |████████████████████████████▉   | 92 kB 12.6 MB/s eta 0:00:01\r\u001b[K     |████████████████████████████████| 102 kB 7.9 MB/s \n",
            "\u001b[?25hInstalling collected packages: torchattacks\n",
            "Successfully installed torchattacks-3.2.3\n"
          ]
        }
      ],
      "source": [
        "!pip install torchattacks"
      ]
    },
    {
      "cell_type": "code",
      "execution_count": 23,
      "metadata": {
        "id": "LRY6Y47BsmhH"
      },
      "outputs": [],
      "source": [
        "import os\n",
        "import sys\n",
        "import numpy as np\n",
        "import matplotlib.pyplot as plt\n",
        "%matplotlib inline\n",
        "\n",
        "import torch\n",
        "import torch.nn as nn\n",
        "import torch.optim as optim\n",
        "from torch.utils.data import DataLoader, TensorDataset\n",
        "\n",
        "import torchvision.utils\n",
        "from torchvision import models\n",
        "import torchvision.datasets as dsets\n",
        "import torchvision.transforms as transforms\n",
        "\n",
        "import torchattacks\n",
        "from torchattacks import PGD\n",
        "\n",
        "# from models import Holdout, Target\n",
        "# from utils import imshow"
      ]
    },
    {
      "cell_type": "code",
      "execution_count": 24,
      "metadata": {
        "colab": {
          "base_uri": "https://localhost:8080/",
          "height": 121,
          "referenced_widgets": [
            "b3044bf98ba549329e8928392c682983",
            "3928f726360d41998288aff6be5d88ea",
            "5459e2d1754e4705b95e492f573120e0",
            "2a80a0657a9e4ff1a7db0d9e55d67f88",
            "4f06b8542020434d998dc6271d8816b2",
            "35b8ab665d6b44d5afa7ee5da58cbb1f",
            "4c41e5fbaf3045128c5e1f6b31bbdb8e",
            "4ec2bf4d8e904474871078fc05237226",
            "f54461c1123a49eda75c16dbd2b10020",
            "3a6c6dbbb8c44ebcabcc31241342985a",
            "216ff2e3c6a343b885d34b1de2259782"
          ]
        },
        "id": "D9hEFj4Ft9lp",
        "outputId": "27e15a3c-ea33-4c8d-a86c-227d05efccc5"
      },
      "outputs": [
        {
          "name": "stdout",
          "output_type": "stream",
          "text": [
            "Downloading https://www.cs.toronto.edu/~kriz/cifar-10-python.tar.gz to ./data/cifar-10-python.tar.gz\n"
          ]
        },
        {
          "data": {
            "application/vnd.jupyter.widget-view+json": {
              "model_id": "b3044bf98ba549329e8928392c682983",
              "version_major": 2,
              "version_minor": 0
            },
            "text/plain": [
              "  0%|          | 0/170498071 [00:00<?, ?it/s]"
            ]
          },
          "metadata": {},
          "output_type": "display_data"
        },
        {
          "name": "stdout",
          "output_type": "stream",
          "text": [
            "Extracting ./data/cifar-10-python.tar.gz to ./data\n",
            "Files already downloaded and verified\n"
          ]
        }
      ],
      "source": [
        "batch_size = 24\n",
        "\n",
        "cifar10_train = dsets.CIFAR10(root='./data', train=True,\n",
        "                              download=True, transform=transforms.ToTensor())\n",
        "cifar10_test  = dsets.CIFAR10(root='./data', train=False,\n",
        "                              download=True, transform=transforms.ToTensor())\n",
        "\n",
        "train_loader = torch.utils.data.DataLoader(cifar10_train,\n",
        "                                           batch_size=batch_size,\n",
        "                                           shuffle=True)\n",
        "test_loader = torch.utils.data.DataLoader(cifar10_test,\n",
        "                                          batch_size=batch_size,\n",
        "                                          shuffle=False)"
      ]
    },
    {
      "cell_type": "code",
      "execution_count": 30,
      "metadata": {
        "colab": {
          "base_uri": "https://localhost:8080/"
        },
        "id": "JdywNOwyuKWi",
        "outputId": "46b481c0-cb91-4ba2-ed83-fa59a63a8024"
      },
      "outputs": [
        {
          "name": "stdout",
          "output_type": "stream",
          "text": [
            "- Save progress: 100.00 % / Robust accuracy: 0.04 % / L2: 1.37852 (0.061 it/s) \t\n",
            "- Save complete!\n"
          ]
        }
      ],
      "source": [
        "atk = PGD(model, eps=8/255, alpha=2/255, steps=7)\n",
        "# atk.set_return_type('int') # Save as integer.\n",
        "atk.save(data_loader=test_loader, save_path=\"/content/drive/MyDrive/mtlsimclr/cifar10_pgd.pt\", verbose=True)"
      ]
    },
    {
      "cell_type": "code",
      "execution_count": 27,
      "metadata": {
        "id": "7PKYVHY_ulmq"
      },
      "outputs": [],
      "source": [
        "adv_images, adv_labels = torch.load(\"/content/drive/MyDrive/mtlsimclr/cifar10_pgd.pt\")\n",
        "adv_data = TensorDataset(adv_images.float()/255, adv_labels)\n",
        "adv_loader = DataLoader(adv_data, batch_size=128, shuffle=False)"
      ]
    },
    {
      "cell_type": "markdown",
      "metadata": {
        "id": "7lW4Kmp0xGUm"
      },
      "source": [
        "## Robust Accuracy"
      ]
    },
    {
      "cell_type": "code",
      "execution_count": 31,
      "metadata": {
        "colab": {
          "base_uri": "https://localhost:8080/"
        },
        "id": "dDI9vhlHu4bs",
        "outputId": "f90a0c11-ce5d-4eeb-9c89-bb92686d04b9"
      },
      "outputs": [
        {
          "name": "stdout",
          "output_type": "stream",
          "text": [
            "Robust accuracy: 0.03 %\n"
          ]
        }
      ],
      "source": [
        "model.eval()\n",
        "\n",
        "correct = 0\n",
        "total = 0\n",
        "\n",
        "for images, labels in adv_loader:\n",
        "    \n",
        "    images = images.cuda()\n",
        "    outputs = model(images)\n",
        "    \n",
        "    _, predicted = torch.max(outputs.data, 1)\n",
        "    \n",
        "    total += labels.size(0)\n",
        "    correct += (predicted == labels.cuda()).sum()\n",
        "    \n",
        "print('Robust accuracy: %.2f %%' % (100 * float(correct) / total))"
      ]
    },
    {
      "cell_type": "code",
      "execution_count": null,
      "metadata": {
        "id": "E8M4jNuHvFT9"
      },
      "outputs": [],
      "source": []
    }
  ],
  "metadata": {
    "accelerator": "GPU",
    "colab": {
      "collapsed_sections": [],
      "name": "resnet-basemodel.ipynb",
      "provenance": []
    },
    "kernelspec": {
      "display_name": "Python 3",
      "name": "python3"
    },
    "language_info": {
      "name": "python"
    },
    "widgets": {
      "application/vnd.jupyter.widget-state+json": {
        "216ff2e3c6a343b885d34b1de2259782": {
          "model_module": "@jupyter-widgets/base",
          "model_module_version": "1.2.0",
          "model_name": "LayoutModel",
          "state": {
            "_model_module": "@jupyter-widgets/base",
            "_model_module_version": "1.2.0",
            "_model_name": "LayoutModel",
            "_view_count": null,
            "_view_module": "@jupyter-widgets/base",
            "_view_module_version": "1.2.0",
            "_view_name": "LayoutView",
            "align_content": null,
            "align_items": null,
            "align_self": null,
            "border": null,
            "bottom": null,
            "display": null,
            "flex": null,
            "flex_flow": null,
            "grid_area": null,
            "grid_auto_columns": null,
            "grid_auto_flow": null,
            "grid_auto_rows": null,
            "grid_column": null,
            "grid_gap": null,
            "grid_row": null,
            "grid_template_areas": null,
            "grid_template_columns": null,
            "grid_template_rows": null,
            "height": null,
            "justify_content": null,
            "justify_items": null,
            "left": null,
            "margin": null,
            "max_height": null,
            "max_width": null,
            "min_height": null,
            "min_width": null,
            "object_fit": null,
            "object_position": null,
            "order": null,
            "overflow": null,
            "overflow_x": null,
            "overflow_y": null,
            "padding": null,
            "right": null,
            "top": null,
            "visibility": null,
            "width": null
          }
        },
        "24c1d8583b0849819eb72ebae77e2dc1": {
          "model_module": "@jupyter-widgets/controls",
          "model_module_version": "1.5.0",
          "model_name": "DescriptionStyleModel",
          "state": {
            "_model_module": "@jupyter-widgets/controls",
            "_model_module_version": "1.5.0",
            "_model_name": "DescriptionStyleModel",
            "_view_count": null,
            "_view_module": "@jupyter-widgets/base",
            "_view_module_version": "1.2.0",
            "_view_name": "StyleView",
            "description_width": ""
          }
        },
        "2a80a0657a9e4ff1a7db0d9e55d67f88": {
          "model_module": "@jupyter-widgets/controls",
          "model_module_version": "1.5.0",
          "model_name": "FloatProgressModel",
          "state": {
            "_dom_classes": [],
            "_model_module": "@jupyter-widgets/controls",
            "_model_module_version": "1.5.0",
            "_model_name": "FloatProgressModel",
            "_view_count": null,
            "_view_module": "@jupyter-widgets/controls",
            "_view_module_version": "1.5.0",
            "_view_name": "ProgressView",
            "bar_style": "success",
            "description": "",
            "description_tooltip": null,
            "layout": "IPY_MODEL_f54461c1123a49eda75c16dbd2b10020",
            "max": 170498071,
            "min": 0,
            "orientation": "horizontal",
            "style": "IPY_MODEL_4ec2bf4d8e904474871078fc05237226",
            "value": 170498071
          }
        },
        "35b8ab665d6b44d5afa7ee5da58cbb1f": {
          "model_module": "@jupyter-widgets/controls",
          "model_module_version": "1.5.0",
          "model_name": "DescriptionStyleModel",
          "state": {
            "_model_module": "@jupyter-widgets/controls",
            "_model_module_version": "1.5.0",
            "_model_name": "DescriptionStyleModel",
            "_view_count": null,
            "_view_module": "@jupyter-widgets/base",
            "_view_module_version": "1.2.0",
            "_view_name": "StyleView",
            "description_width": ""
          }
        },
        "374118c88dc74585aab6cf9bcebbbd3f": {
          "model_module": "@jupyter-widgets/controls",
          "model_module_version": "1.5.0",
          "model_name": "ProgressStyleModel",
          "state": {
            "_model_module": "@jupyter-widgets/controls",
            "_model_module_version": "1.5.0",
            "_model_name": "ProgressStyleModel",
            "_view_count": null,
            "_view_module": "@jupyter-widgets/base",
            "_view_module_version": "1.2.0",
            "_view_name": "StyleView",
            "bar_color": null,
            "description_width": ""
          }
        },
        "3928f726360d41998288aff6be5d88ea": {
          "model_module": "@jupyter-widgets/base",
          "model_module_version": "1.2.0",
          "model_name": "LayoutModel",
          "state": {
            "_model_module": "@jupyter-widgets/base",
            "_model_module_version": "1.2.0",
            "_model_name": "LayoutModel",
            "_view_count": null,
            "_view_module": "@jupyter-widgets/base",
            "_view_module_version": "1.2.0",
            "_view_name": "LayoutView",
            "align_content": null,
            "align_items": null,
            "align_self": null,
            "border": null,
            "bottom": null,
            "display": null,
            "flex": null,
            "flex_flow": null,
            "grid_area": null,
            "grid_auto_columns": null,
            "grid_auto_flow": null,
            "grid_auto_rows": null,
            "grid_column": null,
            "grid_gap": null,
            "grid_row": null,
            "grid_template_areas": null,
            "grid_template_columns": null,
            "grid_template_rows": null,
            "height": null,
            "justify_content": null,
            "justify_items": null,
            "left": null,
            "margin": null,
            "max_height": null,
            "max_width": null,
            "min_height": null,
            "min_width": null,
            "object_fit": null,
            "object_position": null,
            "order": null,
            "overflow": null,
            "overflow_x": null,
            "overflow_y": null,
            "padding": null,
            "right": null,
            "top": null,
            "visibility": null,
            "width": null
          }
        },
        "3a6c6dbbb8c44ebcabcc31241342985a": {
          "model_module": "@jupyter-widgets/controls",
          "model_module_version": "1.5.0",
          "model_name": "DescriptionStyleModel",
          "state": {
            "_model_module": "@jupyter-widgets/controls",
            "_model_module_version": "1.5.0",
            "_model_name": "DescriptionStyleModel",
            "_view_count": null,
            "_view_module": "@jupyter-widgets/base",
            "_view_module_version": "1.2.0",
            "_view_name": "StyleView",
            "description_width": ""
          }
        },
        "4129dd05905445a6800f097bb798ec8f": {
          "model_module": "@jupyter-widgets/controls",
          "model_module_version": "1.5.0",
          "model_name": "HTMLModel",
          "state": {
            "_dom_classes": [],
            "_model_module": "@jupyter-widgets/controls",
            "_model_module_version": "1.5.0",
            "_model_name": "HTMLModel",
            "_view_count": null,
            "_view_module": "@jupyter-widgets/controls",
            "_view_module_version": "1.5.0",
            "_view_name": "HTMLView",
            "description": "",
            "description_tooltip": null,
            "layout": "IPY_MODEL_5e8c67e8298846d885465f3475890fec",
            "placeholder": "​",
            "style": "IPY_MODEL_94fc50fc98b74d7dafc30ccea12a64c5",
            "value": ""
          }
        },
        "4c41e5fbaf3045128c5e1f6b31bbdb8e": {
          "model_module": "@jupyter-widgets/base",
          "model_module_version": "1.2.0",
          "model_name": "LayoutModel",
          "state": {
            "_model_module": "@jupyter-widgets/base",
            "_model_module_version": "1.2.0",
            "_model_name": "LayoutModel",
            "_view_count": null,
            "_view_module": "@jupyter-widgets/base",
            "_view_module_version": "1.2.0",
            "_view_name": "LayoutView",
            "align_content": null,
            "align_items": null,
            "align_self": null,
            "border": null,
            "bottom": null,
            "display": null,
            "flex": null,
            "flex_flow": null,
            "grid_area": null,
            "grid_auto_columns": null,
            "grid_auto_flow": null,
            "grid_auto_rows": null,
            "grid_column": null,
            "grid_gap": null,
            "grid_row": null,
            "grid_template_areas": null,
            "grid_template_columns": null,
            "grid_template_rows": null,
            "height": null,
            "justify_content": null,
            "justify_items": null,
            "left": null,
            "margin": null,
            "max_height": null,
            "max_width": null,
            "min_height": null,
            "min_width": null,
            "object_fit": null,
            "object_position": null,
            "order": null,
            "overflow": null,
            "overflow_x": null,
            "overflow_y": null,
            "padding": null,
            "right": null,
            "top": null,
            "visibility": null,
            "width": null
          }
        },
        "4ec2bf4d8e904474871078fc05237226": {
          "model_module": "@jupyter-widgets/controls",
          "model_module_version": "1.5.0",
          "model_name": "ProgressStyleModel",
          "state": {
            "_model_module": "@jupyter-widgets/controls",
            "_model_module_version": "1.5.0",
            "_model_name": "ProgressStyleModel",
            "_view_count": null,
            "_view_module": "@jupyter-widgets/base",
            "_view_module_version": "1.2.0",
            "_view_name": "StyleView",
            "bar_color": null,
            "description_width": ""
          }
        },
        "4f06b8542020434d998dc6271d8816b2": {
          "model_module": "@jupyter-widgets/controls",
          "model_module_version": "1.5.0",
          "model_name": "HTMLModel",
          "state": {
            "_dom_classes": [],
            "_model_module": "@jupyter-widgets/controls",
            "_model_module_version": "1.5.0",
            "_model_name": "HTMLModel",
            "_view_count": null,
            "_view_module": "@jupyter-widgets/controls",
            "_view_module_version": "1.5.0",
            "_view_name": "HTMLView",
            "description": "",
            "description_tooltip": null,
            "layout": "IPY_MODEL_216ff2e3c6a343b885d34b1de2259782",
            "placeholder": "​",
            "style": "IPY_MODEL_3a6c6dbbb8c44ebcabcc31241342985a",
            "value": " 170499072/? [00:06&lt;00:00, 32452856.61it/s]"
          }
        },
        "4f456bfc72df42ed8182b6aa69e2a879": {
          "model_module": "@jupyter-widgets/base",
          "model_module_version": "1.2.0",
          "model_name": "LayoutModel",
          "state": {
            "_model_module": "@jupyter-widgets/base",
            "_model_module_version": "1.2.0",
            "_model_name": "LayoutModel",
            "_view_count": null,
            "_view_module": "@jupyter-widgets/base",
            "_view_module_version": "1.2.0",
            "_view_name": "LayoutView",
            "align_content": null,
            "align_items": null,
            "align_self": null,
            "border": null,
            "bottom": null,
            "display": null,
            "flex": null,
            "flex_flow": null,
            "grid_area": null,
            "grid_auto_columns": null,
            "grid_auto_flow": null,
            "grid_auto_rows": null,
            "grid_column": null,
            "grid_gap": null,
            "grid_row": null,
            "grid_template_areas": null,
            "grid_template_columns": null,
            "grid_template_rows": null,
            "height": null,
            "justify_content": null,
            "justify_items": null,
            "left": null,
            "margin": null,
            "max_height": null,
            "max_width": null,
            "min_height": null,
            "min_width": null,
            "object_fit": null,
            "object_position": null,
            "order": null,
            "overflow": null,
            "overflow_x": null,
            "overflow_y": null,
            "padding": null,
            "right": null,
            "top": null,
            "visibility": null,
            "width": null
          }
        },
        "5459e2d1754e4705b95e492f573120e0": {
          "model_module": "@jupyter-widgets/controls",
          "model_module_version": "1.5.0",
          "model_name": "HTMLModel",
          "state": {
            "_dom_classes": [],
            "_model_module": "@jupyter-widgets/controls",
            "_model_module_version": "1.5.0",
            "_model_name": "HTMLModel",
            "_view_count": null,
            "_view_module": "@jupyter-widgets/controls",
            "_view_module_version": "1.5.0",
            "_view_name": "HTMLView",
            "description": "",
            "description_tooltip": null,
            "layout": "IPY_MODEL_4c41e5fbaf3045128c5e1f6b31bbdb8e",
            "placeholder": "​",
            "style": "IPY_MODEL_35b8ab665d6b44d5afa7ee5da58cbb1f",
            "value": ""
          }
        },
        "5e8c67e8298846d885465f3475890fec": {
          "model_module": "@jupyter-widgets/base",
          "model_module_version": "1.2.0",
          "model_name": "LayoutModel",
          "state": {
            "_model_module": "@jupyter-widgets/base",
            "_model_module_version": "1.2.0",
            "_model_name": "LayoutModel",
            "_view_count": null,
            "_view_module": "@jupyter-widgets/base",
            "_view_module_version": "1.2.0",
            "_view_name": "LayoutView",
            "align_content": null,
            "align_items": null,
            "align_self": null,
            "border": null,
            "bottom": null,
            "display": null,
            "flex": null,
            "flex_flow": null,
            "grid_area": null,
            "grid_auto_columns": null,
            "grid_auto_flow": null,
            "grid_auto_rows": null,
            "grid_column": null,
            "grid_gap": null,
            "grid_row": null,
            "grid_template_areas": null,
            "grid_template_columns": null,
            "grid_template_rows": null,
            "height": null,
            "justify_content": null,
            "justify_items": null,
            "left": null,
            "margin": null,
            "max_height": null,
            "max_width": null,
            "min_height": null,
            "min_width": null,
            "object_fit": null,
            "object_position": null,
            "order": null,
            "overflow": null,
            "overflow_x": null,
            "overflow_y": null,
            "padding": null,
            "right": null,
            "top": null,
            "visibility": null,
            "width": null
          }
        },
        "69433a25d68448d3b80afa074221d948": {
          "model_module": "@jupyter-widgets/controls",
          "model_module_version": "1.5.0",
          "model_name": "HBoxModel",
          "state": {
            "_dom_classes": [],
            "_model_module": "@jupyter-widgets/controls",
            "_model_module_version": "1.5.0",
            "_model_name": "HBoxModel",
            "_view_count": null,
            "_view_module": "@jupyter-widgets/controls",
            "_view_module_version": "1.5.0",
            "_view_name": "HBoxView",
            "box_style": "",
            "children": [
              "IPY_MODEL_4129dd05905445a6800f097bb798ec8f",
              "IPY_MODEL_77be8cf0dfc243bbba8f2da34ad86f17",
              "IPY_MODEL_90dfd3a5dadb42c4981377825a8287d0"
            ],
            "layout": "IPY_MODEL_c4f95238ecc548b4867ce32841197b55"
          }
        },
        "77be8cf0dfc243bbba8f2da34ad86f17": {
          "model_module": "@jupyter-widgets/controls",
          "model_module_version": "1.5.0",
          "model_name": "FloatProgressModel",
          "state": {
            "_dom_classes": [],
            "_model_module": "@jupyter-widgets/controls",
            "_model_module_version": "1.5.0",
            "_model_name": "FloatProgressModel",
            "_view_count": null,
            "_view_module": "@jupyter-widgets/controls",
            "_view_module_version": "1.5.0",
            "_view_name": "ProgressView",
            "bar_style": "success",
            "description": "",
            "description_tooltip": null,
            "layout": "IPY_MODEL_4f456bfc72df42ed8182b6aa69e2a879",
            "max": 170498071,
            "min": 0,
            "orientation": "horizontal",
            "style": "IPY_MODEL_374118c88dc74585aab6cf9bcebbbd3f",
            "value": 170498071
          }
        },
        "90dfd3a5dadb42c4981377825a8287d0": {
          "model_module": "@jupyter-widgets/controls",
          "model_module_version": "1.5.0",
          "model_name": "HTMLModel",
          "state": {
            "_dom_classes": [],
            "_model_module": "@jupyter-widgets/controls",
            "_model_module_version": "1.5.0",
            "_model_name": "HTMLModel",
            "_view_count": null,
            "_view_module": "@jupyter-widgets/controls",
            "_view_module_version": "1.5.0",
            "_view_name": "HTMLView",
            "description": "",
            "description_tooltip": null,
            "layout": "IPY_MODEL_d09a2ad209c34a6ab54db3ea4edb3c47",
            "placeholder": "​",
            "style": "IPY_MODEL_24c1d8583b0849819eb72ebae77e2dc1",
            "value": " 170499072/? [00:05&lt;00:00, 30857219.98it/s]"
          }
        },
        "94fc50fc98b74d7dafc30ccea12a64c5": {
          "model_module": "@jupyter-widgets/controls",
          "model_module_version": "1.5.0",
          "model_name": "DescriptionStyleModel",
          "state": {
            "_model_module": "@jupyter-widgets/controls",
            "_model_module_version": "1.5.0",
            "_model_name": "DescriptionStyleModel",
            "_view_count": null,
            "_view_module": "@jupyter-widgets/base",
            "_view_module_version": "1.2.0",
            "_view_name": "StyleView",
            "description_width": ""
          }
        },
        "b3044bf98ba549329e8928392c682983": {
          "model_module": "@jupyter-widgets/controls",
          "model_module_version": "1.5.0",
          "model_name": "HBoxModel",
          "state": {
            "_dom_classes": [],
            "_model_module": "@jupyter-widgets/controls",
            "_model_module_version": "1.5.0",
            "_model_name": "HBoxModel",
            "_view_count": null,
            "_view_module": "@jupyter-widgets/controls",
            "_view_module_version": "1.5.0",
            "_view_name": "HBoxView",
            "box_style": "",
            "children": [
              "IPY_MODEL_5459e2d1754e4705b95e492f573120e0",
              "IPY_MODEL_2a80a0657a9e4ff1a7db0d9e55d67f88",
              "IPY_MODEL_4f06b8542020434d998dc6271d8816b2"
            ],
            "layout": "IPY_MODEL_3928f726360d41998288aff6be5d88ea"
          }
        },
        "c4f95238ecc548b4867ce32841197b55": {
          "model_module": "@jupyter-widgets/base",
          "model_module_version": "1.2.0",
          "model_name": "LayoutModel",
          "state": {
            "_model_module": "@jupyter-widgets/base",
            "_model_module_version": "1.2.0",
            "_model_name": "LayoutModel",
            "_view_count": null,
            "_view_module": "@jupyter-widgets/base",
            "_view_module_version": "1.2.0",
            "_view_name": "LayoutView",
            "align_content": null,
            "align_items": null,
            "align_self": null,
            "border": null,
            "bottom": null,
            "display": null,
            "flex": null,
            "flex_flow": null,
            "grid_area": null,
            "grid_auto_columns": null,
            "grid_auto_flow": null,
            "grid_auto_rows": null,
            "grid_column": null,
            "grid_gap": null,
            "grid_row": null,
            "grid_template_areas": null,
            "grid_template_columns": null,
            "grid_template_rows": null,
            "height": null,
            "justify_content": null,
            "justify_items": null,
            "left": null,
            "margin": null,
            "max_height": null,
            "max_width": null,
            "min_height": null,
            "min_width": null,
            "object_fit": null,
            "object_position": null,
            "order": null,
            "overflow": null,
            "overflow_x": null,
            "overflow_y": null,
            "padding": null,
            "right": null,
            "top": null,
            "visibility": null,
            "width": null
          }
        },
        "d09a2ad209c34a6ab54db3ea4edb3c47": {
          "model_module": "@jupyter-widgets/base",
          "model_module_version": "1.2.0",
          "model_name": "LayoutModel",
          "state": {
            "_model_module": "@jupyter-widgets/base",
            "_model_module_version": "1.2.0",
            "_model_name": "LayoutModel",
            "_view_count": null,
            "_view_module": "@jupyter-widgets/base",
            "_view_module_version": "1.2.0",
            "_view_name": "LayoutView",
            "align_content": null,
            "align_items": null,
            "align_self": null,
            "border": null,
            "bottom": null,
            "display": null,
            "flex": null,
            "flex_flow": null,
            "grid_area": null,
            "grid_auto_columns": null,
            "grid_auto_flow": null,
            "grid_auto_rows": null,
            "grid_column": null,
            "grid_gap": null,
            "grid_row": null,
            "grid_template_areas": null,
            "grid_template_columns": null,
            "grid_template_rows": null,
            "height": null,
            "justify_content": null,
            "justify_items": null,
            "left": null,
            "margin": null,
            "max_height": null,
            "max_width": null,
            "min_height": null,
            "min_width": null,
            "object_fit": null,
            "object_position": null,
            "order": null,
            "overflow": null,
            "overflow_x": null,
            "overflow_y": null,
            "padding": null,
            "right": null,
            "top": null,
            "visibility": null,
            "width": null
          }
        },
        "f54461c1123a49eda75c16dbd2b10020": {
          "model_module": "@jupyter-widgets/base",
          "model_module_version": "1.2.0",
          "model_name": "LayoutModel",
          "state": {
            "_model_module": "@jupyter-widgets/base",
            "_model_module_version": "1.2.0",
            "_model_name": "LayoutModel",
            "_view_count": null,
            "_view_module": "@jupyter-widgets/base",
            "_view_module_version": "1.2.0",
            "_view_name": "LayoutView",
            "align_content": null,
            "align_items": null,
            "align_self": null,
            "border": null,
            "bottom": null,
            "display": null,
            "flex": null,
            "flex_flow": null,
            "grid_area": null,
            "grid_auto_columns": null,
            "grid_auto_flow": null,
            "grid_auto_rows": null,
            "grid_column": null,
            "grid_gap": null,
            "grid_row": null,
            "grid_template_areas": null,
            "grid_template_columns": null,
            "grid_template_rows": null,
            "height": null,
            "justify_content": null,
            "justify_items": null,
            "left": null,
            "margin": null,
            "max_height": null,
            "max_width": null,
            "min_height": null,
            "min_width": null,
            "object_fit": null,
            "object_position": null,
            "order": null,
            "overflow": null,
            "overflow_x": null,
            "overflow_y": null,
            "padding": null,
            "right": null,
            "top": null,
            "visibility": null,
            "width": null
          }
        }
      }
    }
  },
  "nbformat": 4,
  "nbformat_minor": 0
}
