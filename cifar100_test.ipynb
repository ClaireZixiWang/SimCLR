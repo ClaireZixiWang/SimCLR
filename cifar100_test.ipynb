{
  "nbformat": 4,
  "nbformat_minor": 0,
  "metadata": {
    "colab": {
      "name": "cifar100-test.ipynb",
      "provenance": [],
      "collapsed_sections": [],
      "toc_visible": true,
      "mount_file_id": "1LmECG3_1mhaRA2WN6gLarcDrdA-KkGmJ",
      "authorship_tag": "ABX9TyM1PqrGumE0vV1SOk9b8fV0",
      "include_colab_link": true
    },
    "kernelspec": {
      "name": "python3",
      "display_name": "Python 3"
    },
    "language_info": {
      "name": "python"
    },
    "accelerator": "GPU"
  },
  "cells": [
    {
      "cell_type": "markdown",
      "metadata": {
        "id": "view-in-github",
        "colab_type": "text"
      },
      "source": [
        "<a href=\"https://colab.research.google.com/github/ClaireZixiWang/SimCLR/blob/master/cifar100_test.ipynb\" target=\"_parent\"><img src=\"https://colab.research.google.com/assets/colab-badge.svg\" alt=\"Open In Colab\"/></a>"
      ]
    },
    {
      "cell_type": "markdown",
      "source": [
        "**Base resnet18 on CIFAR100:**\n",
        "\n",
        "Accuracy = 48.99%\n",
        "\n",
        "Robustness = 0.03%\n",
        "\n",
        "**Supervised MTL resnet18 on CIFAR100:**\n",
        "\n",
        "Accuracy = 50.47%\n",
        "\n",
        "Robustness = 25.64%"
      ],
      "metadata": {
        "id": "dHxYHGwNIZd1"
      }
    },
    {
      "cell_type": "markdown",
      "source": [
        "# Natural Base Model resnet18"
      ],
      "metadata": {
        "id": "K1kNywHN0RfP"
      }
    },
    {
      "cell_type": "markdown",
      "source": [
        "## Train base resnet-18 model with same hyper parameter"
      ],
      "metadata": {
        "id": "3TWDoEuwZUUb"
      }
    },
    {
      "cell_type": "markdown",
      "source": [
        "### Data Loader"
      ],
      "metadata": {
        "id": "8rDObljXZZj4"
      }
    },
    {
      "cell_type": "code",
      "source": [
        "\n",
        "\n",
        "import torch\n",
        "import torch.nn as nn\n",
        "import torchvision\n",
        "import torchvision.transforms as transforms \n",
        "import torchvision.models as models\n",
        "import tqdm\n",
        "from torchvision.datasets import CIFAR100\n"
      ],
      "metadata": {
        "id": "1_5kFDJHsZOP"
      },
      "execution_count": 1,
      "outputs": []
    },
    {
      "cell_type": "code",
      "source": [
        "# Device configuration\n",
        "device = torch.device('cuda' if torch.cuda.is_available() else 'cpu')\n",
        "\n",
        "# Hyper-parameters\n",
        "num_epochs = 100\n",
        "learning_rate = 0.0003\n",
        "BATCH_SIZE = 256\n",
        "weight_decay = 1e-4\n",
        "PATH = '/content/drive/MyDrive/resnet18'\n",
        "\n",
        "device"
      ],
      "metadata": {
        "colab": {
          "base_uri": "https://localhost:8080/"
        },
        "id": "yHRd1H50yLll",
        "outputId": "98195001-4190-4d34-a5e1-0acbc43ff29a"
      },
      "execution_count": 2,
      "outputs": [
        {
          "output_type": "execute_result",
          "data": {
            "text/plain": [
              "device(type='cuda')"
            ]
          },
          "metadata": {},
          "execution_count": 2
        }
      ]
    },
    {
      "cell_type": "code",
      "execution_count": null,
      "metadata": {
        "id": "1a5_uM30N_uT"
      },
      "outputs": [],
      "source": [
        "\n",
        "\n",
        "# Image preprocessing modules\n",
        "transform = transforms.Compose([\n",
        "    transforms.Pad(4),\n",
        "    transforms.RandomHorizontalFlip(),\n",
        "    transforms.RandomCrop(32),\n",
        "    transforms.ToTensor()])\n",
        "\n",
        "# CIFAR-100 dataset\n",
        "train_dataset = torchvision.datasets.CIFAR100(root='../../data/',\n",
        "                                             train=True, \n",
        "                                             transform=transform,\n",
        "                                             download=True)\n",
        "\n",
        "test_dataset = torchvision.datasets.CIFAR100(root='../../data/',\n",
        "                                            train=False, \n",
        "                                            transform=transforms.ToTensor())\n",
        "\n",
        "# Data loader\n",
        "train_loader = torch.utils.data.DataLoader(dataset=train_dataset,\n",
        "                                           batch_size=BATCH_SIZE, \n",
        "                                           shuffle=True)\n",
        "\n",
        "test_loader = torch.utils.data.DataLoader(dataset=test_dataset,\n",
        "                                          batch_size=BATCH_SIZE, \n",
        "                                          shuffle=False)\n",
        "\n"
      ]
    },
    {
      "cell_type": "code",
      "source": [
        "device"
      ],
      "metadata": {
        "colab": {
          "base_uri": "https://localhost:8080/"
        },
        "id": "CmL6K2MzO3Y-",
        "outputId": "f6756f25-47e8-467e-cbd7-c2d8d643a944"
      },
      "execution_count": 4,
      "outputs": [
        {
          "output_type": "execute_result",
          "data": {
            "text/plain": [
              "device(type='cuda')"
            ]
          },
          "metadata": {},
          "execution_count": 4
        }
      ]
    },
    {
      "cell_type": "markdown",
      "source": [
        "### Training"
      ],
      "metadata": {
        "id": "WBHwV5QxqxjO"
      }
    },
    {
      "cell_type": "code",
      "source": [
        "\n",
        "model = models.resnet18(pretrained=False)\n",
        "model = model.to(device)\n",
        "\n",
        "# Loss and optimizer\n",
        "criterion = nn.CrossEntropyLoss()\n",
        "optimizer = torch.optim.Adam(model.parameters(), learning_rate, weight_decay=weight_decay)\n",
        "\n",
        "scheduler = torch.optim.lr_scheduler.CosineAnnealingLR(optimizer, T_max=len(train_loader), eta_min=0,\n",
        "                                                           last_epoch=-1)\n",
        "\n",
        "# For updating learning rate\n",
        "\n",
        "# Train the model\n",
        "total_step = len(train_loader)\n",
        "curr_lr = learning_rate\n",
        "for epoch in range(num_epochs):\n",
        "  for i, (images, labels) in enumerate(train_loader):\n",
        "    images = images.to(device)\n",
        "    labels = labels.to(device)\n",
        "\n",
        "    # Forward pass\n",
        "    outputs = model(images)\n",
        "    loss = criterion(outputs, labels)\n",
        "\n",
        "    # Backward and optimize\n",
        "    optimizer.zero_grad()\n",
        "    loss.backward()\n",
        "    optimizer.step()\n",
        "\n",
        "    if (i+1) % 100 == 0:\n",
        "      print (\"Epoch [{}/{}], Step [{}/{}] Loss: {:.4f}\"\n",
        "                .format(epoch+1, num_epochs, i+1, total_step, loss.item()))\n",
        "\n",
        "  # Decay learning rate\n",
        "  if epoch >= 10:\n",
        "    scheduler.step()                                                           \n",
        "\n",
        "  if epoch %10 == 0:\n",
        "    checkpoint_name = 'checkpoint_resnet18-base-cifar100_{:04d}.pth.tar'.format(epoch)\n",
        "    torch.save(model.state_dict(), PATH+'/'+checkpoint_name)\n",
        "\n",
        "checkpoint_name = 'checkpoint_resnet18-base-cifar100_{:04d}.pth.tar'.format(num_epochs)\n",
        "torch.save(model.state_dict(), PATH+'/'+checkpoint_name)\n"
      ],
      "metadata": {
        "id": "igf6OlfMF77y"
      },
      "execution_count": null,
      "outputs": []
    },
    {
      "cell_type": "markdown",
      "source": [
        "## Load the model and Attack"
      ],
      "metadata": {
        "id": "MhfUQfhaxrmj"
      }
    },
    {
      "cell_type": "markdown",
      "source": [
        "### Load the model"
      ],
      "metadata": {
        "id": "vnsdOvCSrXck"
      }
    },
    {
      "cell_type": "code",
      "source": [
        "PATH = '/content/drive/MyDrive/resnet18/checkpoint_resnet18-base-cifar100_0100.pth.tar'\n",
        "model_state_dict = torch.load(PATH)"
      ],
      "metadata": {
        "id": "FLOYj-4tq6vS"
      },
      "execution_count": 6,
      "outputs": []
    },
    {
      "cell_type": "code",
      "source": [
        "model = models.resnet18(pretrained=False)\n",
        "model.load_state_dict(model_state_dict)\n",
        "model = model.to(device)"
      ],
      "metadata": {
        "id": "chMcH2fUsrqz"
      },
      "execution_count": 7,
      "outputs": []
    },
    {
      "cell_type": "markdown",
      "source": [
        "### PGD attack the model and save images"
      ],
      "metadata": {
        "id": "b4SxJYMit0GS"
      }
    },
    {
      "cell_type": "code",
      "source": [
        "!pip install torchattacks"
      ],
      "metadata": {
        "colab": {
          "base_uri": "https://localhost:8080/"
        },
        "id": "nQK2ZWuRt-gD",
        "outputId": "88c20bea-c570-4b7a-9c12-f4fe154f999c"
      },
      "execution_count": 9,
      "outputs": [
        {
          "output_type": "stream",
          "name": "stdout",
          "text": [
            "Collecting torchattacks\n",
            "  Downloading torchattacks-3.2.3-py3-none-any.whl (102 kB)\n",
            "\u001b[?25l\r\u001b[K     |███▏                            | 10 kB 26.0 MB/s eta 0:00:01\r\u001b[K     |██████▍                         | 20 kB 30.9 MB/s eta 0:00:01\r\u001b[K     |█████████▋                      | 30 kB 12.9 MB/s eta 0:00:01\r\u001b[K     |████████████▉                   | 40 kB 10.6 MB/s eta 0:00:01\r\u001b[K     |████████████████                | 51 kB 5.4 MB/s eta 0:00:01\r\u001b[K     |███████████████████▏            | 61 kB 5.5 MB/s eta 0:00:01\r\u001b[K     |██████████████████████▍         | 71 kB 5.3 MB/s eta 0:00:01\r\u001b[K     |█████████████████████████▋      | 81 kB 5.9 MB/s eta 0:00:01\r\u001b[K     |████████████████████████████▉   | 92 kB 5.8 MB/s eta 0:00:01\r\u001b[K     |████████████████████████████████| 102 kB 4.7 MB/s \n",
            "\u001b[?25hInstalling collected packages: torchattacks\n",
            "Successfully installed torchattacks-3.2.3\n"
          ]
        }
      ]
    },
    {
      "cell_type": "code",
      "source": [
        "import os\n",
        "import sys\n",
        "import numpy as np\n",
        "import matplotlib.pyplot as plt\n",
        "%matplotlib inline\n",
        "\n",
        "import torch\n",
        "import torch.nn as nn\n",
        "import torch.optim as optim\n",
        "from torch.utils.data import DataLoader, TensorDataset\n",
        "\n",
        "import torchvision.utils\n",
        "from torchvision import models\n",
        "import torchvision.datasets as dsets\n",
        "import torchvision.transforms as transforms\n",
        "\n",
        "import torchattacks\n",
        "from torchattacks import PGD\n",
        "\n",
        "# from models import Holdout, Target\n",
        "# from utils import imshow"
      ],
      "metadata": {
        "id": "LRY6Y47BsmhH"
      },
      "execution_count": 10,
      "outputs": []
    },
    {
      "cell_type": "code",
      "source": [
        "batch_size = 24\n",
        "\n",
        "cifar100_train = dsets.CIFAR100(root='./data', train=True,\n",
        "                              download=True, transform=transforms.ToTensor())\n",
        "cifar100_test  = dsets.CIFAR100(root='./data', train=False,\n",
        "                              download=True, transform=transforms.ToTensor())\n",
        "\n",
        "train_loader = torch.utils.data.DataLoader(cifar100_train,\n",
        "                                           batch_size=batch_size,\n",
        "                                           shuffle=True)\n",
        "test_loader = torch.utils.data.DataLoader(cifar100_test,\n",
        "                                          batch_size=batch_size,\n",
        "                                          shuffle=False)"
      ],
      "metadata": {
        "id": "D9hEFj4Ft9lp"
      },
      "execution_count": null,
      "outputs": []
    },
    {
      "cell_type": "code",
      "source": [
        "atk = PGD(model, eps=8/255, alpha=2/255, steps=7)\n",
        "# atk.set_return_type('int') # Save as integer.\n",
        "atk.save(data_loader=test_loader, save_path=\"/content/drive/MyDrive/mtlsimclr/cifar100_pgd.pt\", verbose=True)"
      ],
      "metadata": {
        "colab": {
          "base_uri": "https://localhost:8080/"
        },
        "id": "JdywNOwyuKWi",
        "outputId": "5da58c5c-58be-42d0-f258-c47fba7fdc55"
      },
      "execution_count": 12,
      "outputs": [
        {
          "output_type": "stream",
          "name": "stdout",
          "text": [
            "- Save progress: 100.00 % / Robust accuracy: 0.37 % / L2: 1.33795 (0.059 it/s) \t\n",
            "- Save complete!\n"
          ]
        }
      ]
    },
    {
      "cell_type": "markdown",
      "source": [
        "## Test the model"
      ],
      "metadata": {
        "id": "10WnzXOdd9ft"
      }
    },
    {
      "cell_type": "markdown",
      "source": [
        "### Natural Accuracy"
      ],
      "metadata": {
        "id": "xRsJQ8cFq1Vq"
      }
    },
    {
      "cell_type": "code",
      "source": [
        "# Test the model\n",
        "model.eval()\n",
        "with torch.no_grad():\n",
        "    correct = 0\n",
        "    total = 0\n",
        "    for images, labels in test_loader:\n",
        "        images = images.to(device)\n",
        "        labels = labels.to(device)\n",
        "        outputs = model(images)\n",
        "        _, predicted = torch.max(outputs.data, 1)\n",
        "        total += labels.size(0)\n",
        "        correct += (predicted == labels).sum().item()\n",
        "\n",
        "    print('Accuracy of the model on the test images: {} %'.format(100 * correct / total))\n",
        "\n",
        "# Save the model checkpoint\n",
        "torch.save(model.state_dict(), 'resnet.ckpt')\n"
      ],
      "metadata": {
        "colab": {
          "base_uri": "https://localhost:8080/"
        },
        "id": "7mSSFN7SGQxh",
        "outputId": "049578f1-b968-49f7-f746-21dcb54898e5"
      },
      "execution_count": 8,
      "outputs": [
        {
          "output_type": "stream",
          "name": "stdout",
          "text": [
            "Accuracy of the model on the test images: 48.99 %\n"
          ]
        }
      ]
    },
    {
      "cell_type": "markdown",
      "source": [
        "### Robust Accuracy"
      ],
      "metadata": {
        "id": "7lW4Kmp0xGUm"
      }
    },
    {
      "cell_type": "code",
      "source": [
        "adv_images, adv_labels = torch.load(\"/content/drive/MyDrive/mtlsimclr/cifar100_pgd.pt\")\n",
        "adv_data = TensorDataset(adv_images, adv_labels)\n",
        "adv_loader = DataLoader(adv_data, batch_size=128, shuffle=False)"
      ],
      "metadata": {
        "id": "7PKYVHY_ulmq"
      },
      "execution_count": 14,
      "outputs": []
    },
    {
      "cell_type": "code",
      "source": [
        "model.eval()\n",
        "\n",
        "correct = 0\n",
        "total = 0\n",
        "\n",
        "for images, labels in adv_loader:\n",
        "    \n",
        "    images = images.cuda()\n",
        "    outputs = model(images)\n",
        "    \n",
        "    _, predicted = torch.max(outputs.data, 1)\n",
        "    \n",
        "    total += labels.size(0)\n",
        "    correct += (predicted == labels.cuda()).sum()\n",
        "    \n",
        "print('Robust accuracy: %.2f %%' % (100 * float(correct) / total))"
      ],
      "metadata": {
        "colab": {
          "base_uri": "https://localhost:8080/"
        },
        "id": "dDI9vhlHu4bs",
        "outputId": "c65fa3a7-9945-478d-e090-6129b020c2a7"
      },
      "execution_count": 15,
      "outputs": [
        {
          "output_type": "stream",
          "name": "stdout",
          "text": [
            "Robust accuracy: 0.37 %\n"
          ]
        }
      ]
    },
    {
      "cell_type": "markdown",
      "source": [
        "# Sup MTL Resnet18"
      ],
      "metadata": {
        "id": "xozpauZM0mPR"
      }
    },
    {
      "cell_type": "markdown",
      "source": [
        "## Load the model"
      ],
      "metadata": {
        "id": "H6AZjErh1Mik"
      }
    },
    {
      "cell_type": "code",
      "source": [
        "PATH = '/content/drive/MyDrive/resnet18/checkpoint_resnet18-sup-mtl_0100.pth.tar'\n",
        "model_state_dict = torch.load(PATH)\n"
      ],
      "metadata": {
        "id": "JRX35y4b1Mik"
      },
      "execution_count": 16,
      "outputs": []
    },
    {
      "cell_type": "code",
      "source": [
        "class ResNetTwoPrediction(nn.Module):\n",
        "  def __init__(self):\n",
        "    super(ResNetTwoPrediction, self).__init__()\n",
        "    self.backbone = models.resnet18(pretrained=False)\n",
        "    dim = self.backbone.fc.in_features\n",
        "    # print(dim)\n",
        "    self.backbone.fc = nn.Identity() # place holder for the fc layer\n",
        "    self.backbone.fine = nn.Sequential(nn.Linear(dim, dim), \n",
        "                                       nn.ReLU(), \n",
        "                                       nn.Linear(in_features=512, out_features=100, bias=True))\n",
        "    self.backbone.coarse = nn.Sequential(nn.Linear(dim, dim), \n",
        "                                         nn.ReLU(), \n",
        "                                         nn.Linear(in_features=512, out_features=20, bias=True))\n",
        "\n",
        "  def forward(self, x):\n",
        "    base_representation = self.backbone(x)\n",
        "    fine_out = self.backbone.fine(base_representation)\n",
        "    coarse_out = self.backbone.coarse(base_representation)\n",
        "    return fine_out, coarse_out\n"
      ],
      "metadata": {
        "id": "ZfyYVtBG1sPM"
      },
      "execution_count": 17,
      "outputs": []
    },
    {
      "cell_type": "code",
      "source": [
        "model = ResNetTwoPrediction()\n",
        "model.load_state_dict(model_state_dict)\n",
        "model = model.to(device)"
      ],
      "metadata": {
        "id": "VHZ5-7bW1Mik"
      },
      "execution_count": 18,
      "outputs": []
    },
    {
      "cell_type": "markdown",
      "source": [
        "## Natural Accuracy"
      ],
      "metadata": {
        "id": "I5brNv_q1Mil"
      }
    },
    {
      "cell_type": "code",
      "source": [
        "# Test the model\n",
        "model.eval()\n",
        "with torch.no_grad():\n",
        "    correct = 0\n",
        "    total = 0\n",
        "    for images, labels in test_loader:\n",
        "        images = images.to(device)\n",
        "        labels = labels.to(device)\n",
        "        fine_out, coarse_out = model(images)\n",
        "        _, predicted = torch.max(fine_out.data, 1)\n",
        "        total += labels.size(0)\n",
        "        correct += (predicted == labels).sum().item()\n",
        "\n",
        "    print('Accuracy of the model on the test images: {} %'.format(100 * correct / total))\n",
        "\n",
        "# Save the model checkpoint\n",
        "torch.save(model.state_dict(), 'resnet.ckpt')\n"
      ],
      "metadata": {
        "colab": {
          "base_uri": "https://localhost:8080/"
        },
        "outputId": "0abaf46f-28a1-44a0-f67d-d4e2a8dadf61",
        "id": "EU5eVRkU1Mil"
      },
      "execution_count": 19,
      "outputs": [
        {
          "output_type": "stream",
          "name": "stdout",
          "text": [
            "Accuracy of the model on the test images: 50.47 %\n"
          ]
        }
      ]
    },
    {
      "cell_type": "markdown",
      "source": [
        "## Robust Accuracy"
      ],
      "metadata": {
        "id": "F28QgUuR1T1-"
      }
    },
    {
      "cell_type": "code",
      "source": [
        "model.eval()\n",
        "\n",
        "correct = 0\n",
        "total = 0\n",
        "\n",
        "for images, labels in adv_loader:\n",
        "    images = images.to(device)\n",
        "    labels = labels.to(device)\n",
        "    \n",
        "    fine_out, coarse_out = model(images)\n",
        "    _, predicted = torch.max(fine_out.data, 1)\n",
        "    \n",
        "    total += labels.size(0)\n",
        "    correct += (predicted == labels.cuda()).sum()\n",
        "    \n",
        "print('Robust accuracy: %.2f %%' % (100 * float(correct) / total))"
      ],
      "metadata": {
        "colab": {
          "base_uri": "https://localhost:8080/"
        },
        "outputId": "68719ed8-c154-46b8-f85a-13f426724cdf",
        "id": "6Z4fij_p1T1_"
      },
      "execution_count": 20,
      "outputs": [
        {
          "output_type": "stream",
          "name": "stdout",
          "text": [
            "Robust accuracy: 25.64 %\n"
          ]
        }
      ]
    }
  ]
}